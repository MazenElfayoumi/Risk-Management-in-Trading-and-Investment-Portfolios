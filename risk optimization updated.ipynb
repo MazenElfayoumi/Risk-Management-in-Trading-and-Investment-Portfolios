{
 "cells": [
  {
   "cell_type": "markdown",
   "id": "a4e32d19",
   "metadata": {},
   "source": [
    "# Semi-Variance (SV) Risk Measure"
   ]
  },
  {
   "cell_type": "code",
   "execution_count": 17,
   "id": "da900797",
   "metadata": {},
   "outputs": [],
   "source": [
    "import numpy as np\n",
    "import cvxpy as cp\n"
   ]
  },
  {
   "cell_type": "code",
   "execution_count": 18,
   "id": "1a3e8ca9",
   "metadata": {},
   "outputs": [],
   "source": [
    "def calculate_semi_variance(returns):\n",
    "    # Calculate the mean return for each asset\n",
    "    mean_returns = np.mean(returns, axis=0)\n",
    "    \n",
    "    # Calculate deviations less than the mean (downside)\n",
    "    downside_deviation = np.minimum(0, returns - mean_returns)\n",
    "    \n",
    "    # Calculate the semi-variance\n",
    "    semi_variance = np.mean(downside_deviation**2, axis=0)\n",
    "    \n",
    "    return semi_variance\n"
   ]
  },
  {
   "cell_type": "code",
   "execution_count": 19,
   "id": "c765d3bf",
   "metadata": {},
   "outputs": [],
   "source": [
    "def optimize_portfolio_semi_variance(returns):\n",
    "    num_assets = returns.shape[1]\n",
    "    weights = cp.Variable(num_assets)\n",
    "    \n",
    "    # The expected return for the portfolio\n",
    "    portfolio_return = returns @ weights\n",
    "    \n",
    "    # The semi-variance of the portfolio\n",
    "    mean_portfolio_return = cp.sum(portfolio_return) / len(returns)\n",
    "    downside_deviation = cp.minimum(0, portfolio_return - mean_portfolio_return)\n",
    "    portfolio_semi_variance = cp.sum_squares(downside_deviation) / len(returns)\n",
    "    \n",
    "    # Objective: minimize the semi-variance\n",
    "    objective = cp.Minimize(portfolio_semi_variance)\n",
    "    \n",
    "    # Constraints: sum of weights = 1, weights must be non-negative (no short-selling)\n",
    "    constraints = [cp.sum(weights) == 1, weights >= 0]\n",
    "    \n",
    "    # Solve the optimization problem\n",
    "    problem = cp.Problem(objective, constraints)\n",
    "    problem.solve()\n",
    "    \n",
    "    return weights.value\n"
   ]
  },
  {
   "cell_type": "code",
   "execution_count": 20,
   "id": "31905b30",
   "metadata": {},
   "outputs": [
    {
     "name": "stdout",
     "output_type": "stream",
     "text": [
      "Optimized Portfolio Weights: [0.25281384 0.25315089 0.24487327 0.249162  ]\n"
     ]
    }
   ],
   "source": [
    "# Example data (randomly generated for demonstration)\n",
    "np.random.seed(42)\n",
    "example_returns = np.random.randn(100, 4) * 0.01  # 100 days, 4 assets\n",
    "\n",
    "# Optimize the portfolio to minimize semi-variance\n",
    "optimized_weights = optimize_portfolio_semi_variance(example_returns)\n",
    "print(\"Optimized Portfolio Weights:\", optimized_weights)\n"
   ]
  },
  {
   "cell_type": "markdown",
   "id": "c4a41745",
   "metadata": {},
   "source": [
    "# Mean Absolute Deviation (MAD) Risk Measure"
   ]
  },
  {
   "cell_type": "code",
   "execution_count": 21,
   "id": "261b46f1",
   "metadata": {},
   "outputs": [],
   "source": [
    "import numpy as np\n",
    "import cvxpy as cp\n"
   ]
  },
  {
   "cell_type": "code",
   "execution_count": 22,
   "id": "dcbc57e6",
   "metadata": {},
   "outputs": [],
   "source": [
    "def calculate_mean_absolute_deviation(returns):\n",
    "    # Calculate the mean return for each asset\n",
    "    mean_returns = np.mean(returns, axis=0)\n",
    "    \n",
    "    # Calculate the absolute deviations from the mean\n",
    "    absolute_deviation = np.abs(returns - mean_returns)\n",
    "    \n",
    "    # Calculate the mean absolute deviation\n",
    "    mad = np.mean(absolute_deviation, axis=0)\n",
    "    \n",
    "    return mad\n"
   ]
  },
  {
   "cell_type": "code",
   "execution_count": 23,
   "id": "f492054a",
   "metadata": {},
   "outputs": [],
   "source": [
    "def optimize_portfolio_mad(returns):\n",
    "    num_assets = returns.shape[1]\n",
    "    weights = cp.Variable(num_assets)\n",
    "    \n",
    "    # The portfolio return\n",
    "    portfolio_return = returns @ weights\n",
    "    \n",
    "    # The mean return of the portfolio\n",
    "    mean_portfolio_return = cp.sum(portfolio_return) / len(returns)\n",
    "    \n",
    "    # The absolute deviations from the mean return of the portfolio\n",
    "    absolute_deviation = cp.abs(portfolio_return - mean_portfolio_return)\n",
    "    portfolio_mad = cp.sum(absolute_deviation) / len(returns)\n",
    "    \n",
    "    # Objective: minimize the mean absolute deviation\n",
    "    objective = cp.Minimize(portfolio_mad)\n",
    "    \n",
    "    # Constraints: sum of weights = 1, weights must be non-negative (no short-selling)\n",
    "    constraints = [cp.sum(weights) == 1, weights >= 0]\n",
    "    \n",
    "    # Solve the optimization problem\n",
    "    problem = cp.Problem(objective, constraints)\n",
    "    problem.solve()\n",
    "    \n",
    "    return weights.value\n"
   ]
  },
  {
   "cell_type": "code",
   "execution_count": 24,
   "id": "c18fa443",
   "metadata": {},
   "outputs": [
    {
     "name": "stdout",
     "output_type": "stream",
     "text": [
      "Optimized Portfolio Weights: [0.2843136  0.24261004 0.25018537 0.22289099]\n"
     ]
    }
   ],
   "source": [
    "# Example data (randomly generated for demonstration)\n",
    "np.random.seed(42)\n",
    "example_returns = np.random.randn(100, 4) * 0.01  # 100 days, 4 assets\n",
    "\n",
    "# Optimize the portfolio to minimize MAD\n",
    "optimized_weights = optimize_portfolio_mad(example_returns)\n",
    "print(\"Optimized Portfolio Weights:\", optimized_weights)\n"
   ]
  },
  {
   "cell_type": "markdown",
   "id": "44d7a211",
   "metadata": {},
   "source": [
    "# Semi Absolute Deviation (SAD) Risk Measure"
   ]
  },
  {
   "cell_type": "code",
   "execution_count": 25,
   "id": "77887e34",
   "metadata": {},
   "outputs": [],
   "source": [
    "import numpy as np\n",
    "import cvxpy as cp\n"
   ]
  },
  {
   "cell_type": "code",
   "execution_count": 26,
   "id": "c681d7f1",
   "metadata": {},
   "outputs": [],
   "source": [
    "def calculate_semi_absolute_deviation(returns, threshold=None):\n",
    "    if threshold is None:\n",
    "        threshold = np.mean(returns, axis=0)  # default threshold as the mean return\n",
    "    \n",
    "    # Calculate deviations below the threshold\n",
    "    downside_deviation = np.minimum(0, returns - threshold)\n",
    "    \n",
    "    # Calculate the semi absolute deviation\n",
    "    sad = np.mean(np.abs(downside_deviation), axis=0)\n",
    "    \n",
    "    return sad\n"
   ]
  },
  {
   "cell_type": "code",
   "execution_count": 27,
   "id": "7d9dcc6b",
   "metadata": {},
   "outputs": [],
   "source": [
    "def optimize_portfolio_sad(returns, threshold=None):\n",
    "    num_assets = returns.shape[1]\n",
    "    weights = cp.Variable(num_assets)\n",
    "    \n",
    "    # The portfolio return\n",
    "    portfolio_return = returns @ weights\n",
    "    \n",
    "    if threshold is None:\n",
    "        threshold = cp.sum(portfolio_return) / len(returns)  # Default to mean portfolio return\n",
    "    \n",
    "    # Calculate the downside deviations below the threshold\n",
    "    downside_deviation = cp.minimum(0, portfolio_return - threshold)\n",
    "    \n",
    "    # The SAD of the portfolio\n",
    "    portfolio_sad = cp.sum(cp.abs(downside_deviation)) / len(returns)\n",
    "    \n",
    "    # Objective: minimize the semi absolute deviation\n",
    "    objective = cp.Minimize(portfolio_sad)\n",
    "    \n",
    "    # Constraints: sum of weights = 1, weights must be non-negative (no short-selling)\n",
    "    constraints = [cp.sum(weights) == 1, weights >= 0]\n",
    "    \n",
    "    # Solve the optimization problem\n",
    "    problem = cp.Problem(objective, constraints)\n",
    "    problem.solve()\n",
    "    \n",
    "    return weights.value\n"
   ]
  },
  {
   "cell_type": "code",
   "execution_count": 28,
   "id": "8d80beaf",
   "metadata": {},
   "outputs": [
    {
     "name": "stdout",
     "output_type": "stream",
     "text": [
      "Optimized Portfolio Weights: [0.2843136  0.24261004 0.25018537 0.22289099]\n"
     ]
    }
   ],
   "source": [
    "# Example data (randomly generated for demonstration)\n",
    "np.random.seed(42)\n",
    "example_returns = np.random.randn(100, 4) * 0.01  # 100 days, 4 assets\n",
    "\n",
    "# Optimize the portfolio to minimize SAD\n",
    "optimized_weights = optimize_portfolio_sad(example_returns)\n",
    "print(\"Optimized Portfolio Weights:\", optimized_weights)\n"
   ]
  },
  {
   "cell_type": "markdown",
   "id": "1db416d3",
   "metadata": {},
   "source": [
    " # Optimization and Constraints"
   ]
  },
  {
   "cell_type": "code",
   "execution_count": 29,
   "id": "1b73d0c8",
   "metadata": {},
   "outputs": [],
   "source": [
    "import numpy as np\n",
    "import cvxpy as cp\n",
    "import sys\n"
   ]
  },
  {
   "cell_type": "code",
   "execution_count": 30,
   "id": "da2b95f0",
   "metadata": {},
   "outputs": [],
   "source": [
    "pip install ecos"
   ]
  },
  {
   "cell_type": "code",
   "execution_count": 31,
   "id": "1d97e1d7",
   "metadata": {},
   "outputs": [
    {
     "name": "stdout",
     "output_type": "stream",
     "text": [
      "Optimized Portfolio Weights: [0.31354667 0.23795211 0.22423531 0.2242659 ]\n"
     ]
    }
   ],
   "source": [
    "import cvxpy as cp\n",
    "import numpy as np\n",
    "\n",
    "def optimize_portfolio_with_constraints(returns, min_assets, max_assets, min_weight, max_weight):\n",
    "    num_assets = returns.shape[1]\n",
    "    weights = cp.Variable(num_assets)\n",
    "    # Introduce binary variables for handling cardinality\n",
    "    selection = cp.Variable(num_assets, boolean=True)\n",
    "\n",
    "    # The expected return for the portfolio\n",
    "    portfolio_return = returns @ weights\n",
    "    risk = cp.quad_form(weights, np.cov(returns.T))\n",
    "\n",
    "    # Objective: minimize risk\n",
    "    objective = cp.Minimize(risk)\n",
    "\n",
    "    # Constraints\n",
    "    constraints = [\n",
    "        cp.sum(weights) == 1,  # Budget constraint\n",
    "        weights >= min_weight * selection,  # Min weight constraint, only applies if asset is selected\n",
    "        weights <= max_weight * selection,  # Max weight constraint, only applies if asset is selected\n",
    "        weights >= 0,  # No short-selling\n",
    "        cp.sum(selection) >= min_assets,  # Minimum number of assets\n",
    "        cp.sum(selection) <= max_assets,  # Maximum number of assets\n",
    "    ]\n",
    "\n",
    "    # Solve the optimization problem\n",
    "    problem = cp.Problem(objective, constraints)\n",
    "    problem.solve(solver=cp.ECOS_BB)  # Use ECOS_BB for mixed-integer conic optimization\n",
    "\n",
    "    return weights.value\n",
    "\n",
    "# Example data (randomly generated for demonstration)\n",
    "np.random.seed(42)\n",
    "example_returns = np.random.randn(100, 4) * 0.01  # 100 days, 4 assets\n",
    "\n",
    "# Parameters for constraints\n",
    "min_assets = 2  # Minimum number of assets in the portfolio\n",
    "max_assets = 4  # Maximum number of assets in the portfolio\n",
    "min_weight = 0.1  # Minimum weight of any asset in the portfolio\n",
    "max_weight = 0.6  # Maximum weight of any asset in the portfolio\n",
    "\n",
    "# Optimize the portfolio with specified constraints\n",
    "optimized_weights = optimize_portfolio_with_constraints(\n",
    "    example_returns, min_assets, max_assets, min_weight, max_weight\n",
    ")\n",
    "print(\"Optimized Portfolio Weights:\", optimized_weights)\n"
   ]
  },
  {
   "cell_type": "markdown",
   "id": "e9b839c2",
   "metadata": {},
   "source": [
    "# Stochastic Programming Model"
   ]
  },
  {
   "cell_type": "code",
   "execution_count": 32,
   "id": "6d7cbc07",
   "metadata": {},
   "outputs": [],
   "source": [
    "import numpy as np\n",
    "import cvxpy as cp\n"
   ]
  },
  {
   "cell_type": "code",
   "execution_count": 33,
   "id": "16860533",
   "metadata": {},
   "outputs": [],
   "source": [
    "# Example market scenarios\n",
    "np.random.seed(42)\n",
    "num_assets = 4\n",
    "num_scenarios = 10\n",
    "scenario_returns = np.random.randn(num_scenarios, num_assets) * 0.01  # Random returns for illustration\n",
    "scenario_probabilities = np.full(num_scenarios, 1.0 / num_scenarios)  # Equal probability for each scenario\n"
   ]
  },
  {
   "cell_type": "code",
   "execution_count": 34,
   "id": "bd4d0a0d",
   "metadata": {},
   "outputs": [
    {
     "name": "stdout",
     "output_type": "stream",
     "text": [
      "Optimized Portfolio Weights: [1.09088619e-07 9.31090070e-09 1.25658481e-08 9.99999869e-01]\n"
     ]
    }
   ],
   "source": [
    "def minimize_regret(scenario_returns, scenario_probabilities):\n",
    "    num_scenarios, num_assets = scenario_returns.shape\n",
    "    weights = cp.Variable(num_assets)\n",
    "    scenario_contributions = []\n",
    "\n",
    "    for i in range(num_scenarios):\n",
    "        # Calculate the portfolio return for scenario i\n",
    "        portfolio_return = scenario_returns[i] @ weights\n",
    "        \n",
    "        # Maximum return possible for this scenario (if we could invest optimally with hindsight)\n",
    "        best_return = cp.max(scenario_returns[i])\n",
    "        \n",
    "        # Contribution to regret from this scenario\n",
    "        regret = scenario_probabilities[i] * (best_return - portfolio_return)\n",
    "        scenario_contributions.append(regret)\n",
    "    \n",
    "    # Total expected regret\n",
    "    total_regret = cp.sum(scenario_contributions)\n",
    "    \n",
    "    # Objective: Minimize total expected regret\n",
    "    objective = cp.Minimize(total_regret)\n",
    "    \n",
    "    # Constraints: Sum of weights is 1, weights are non-negative\n",
    "    constraints = [cp.sum(weights) == 1, weights >= 0]\n",
    "    \n",
    "    # Solve the problem\n",
    "    problem = cp.Problem(objective, constraints)\n",
    "    problem.solve()\n",
    "    \n",
    "    return weights.value\n",
    "\n",
    "# Optimize portfolio to minimize regret\n",
    "optimized_weights = minimize_regret(scenario_returns, scenario_probabilities)\n",
    "print(\"Optimized Portfolio Weights:\", optimized_weights)\n"
   ]
  },
  {
   "cell_type": "markdown",
   "id": "89eb43a8",
   "metadata": {},
   "source": [
    "# Augmented ε-constraint Method"
   ]
  },
  {
   "cell_type": "code",
   "execution_count": 35,
   "id": "e45c7164",
   "metadata": {},
   "outputs": [],
   "source": [
    "import numpy as np\n",
    "import cvxpy as cp\n"
   ]
  },
  {
   "cell_type": "code",
   "execution_count": 36,
   "id": "7d2863d4",
   "metadata": {},
   "outputs": [],
   "source": [
    "np.random.seed(42)\n",
    "num_assets = 4\n",
    "returns = np.random.randn(num_assets) * 0.01\n",
    "covariance_matrix = np.random.randn(num_assets, num_assets) * 0.01\n",
    "covariance_matrix = covariance_matrix @ covariance_matrix.T  # To ensure it's positive definite\n"
   ]
  },
  {
   "cell_type": "code",
   "execution_count": 37,
   "id": "fd9ae32d",
   "metadata": {},
   "outputs": [],
   "source": [
    "def augmented_epsilon_constraint(returns, covariance, epsilon_range):\n",
    "    num_assets = len(returns)\n",
    "    weights = cp.Variable(num_assets)\n",
    "    risk = cp.quad_form(weights, covariance)  # Portfolio risk (variance)\n",
    "    expected_return = returns @ weights  # Portfolio expected return\n",
    "\n",
    "    results = []\n",
    "    for epsilon in epsilon_range:\n",
    "        # Objective: Minimize risk\n",
    "        objective = cp.Minimize(risk)\n",
    "        \n",
    "        # Constraints: adjust ε to explore the trade-off\n",
    "        constraints = [\n",
    "            cp.sum(weights) == 1,  # Weights sum to 1\n",
    "            weights >= 0,  # No short selling\n",
    "            expected_return >= epsilon  # Return must be at least ε\n",
    "        ]\n",
    "        \n",
    "        # Solve the problem\n",
    "        problem = cp.Problem(objective, constraints)\n",
    "        problem.solve()\n",
    "        \n",
    "        if problem.status == cp.OPTIMAL:\n",
    "            results.append({\n",
    "                'epsilon': epsilon,\n",
    "                'risk': risk.value,\n",
    "                'return': expected_return.value,\n",
    "                'weights': weights.value\n",
    "            })\n",
    "\n",
    "    return results\n"
   ]
  },
  {
   "cell_type": "code",
   "execution_count": 38,
   "id": "2c49a3e9",
   "metadata": {},
   "outputs": [
    {
     "name": "stdout",
     "output_type": "stream",
     "text": [
      "Epsilon: -0.0014, Risk: 0.0000, Return: 0.0020, Weights: [ 3.38169435e-01  5.08614682e-01  1.53215883e-01 -1.19246341e-18]\n",
      "Epsilon: 0.0005, Risk: 0.0000, Return: 0.0020, Weights: [ 3.38169435e-01  5.08614682e-01  1.53215883e-01 -1.19246341e-18]\n",
      "Epsilon: 0.0023, Risk: 0.0000, Return: 0.0023, Weights: [0.35458823 0.47138227 0.1657566  0.0082729 ]\n",
      "Epsilon: 0.0042, Risk: 0.0000, Return: 0.0042, Weights: [0.39000542 0.34017985 0.16236176 0.10745297]\n",
      "Epsilon: 0.0060, Risk: 0.0000, Return: 0.0060, Weights: [0.42542261 0.20897743 0.15896691 0.20663304]\n",
      "Epsilon: 0.0078, Risk: 0.0000, Return: 0.0078, Weights: [0.4608398  0.07777501 0.15557207 0.30581312]\n",
      "Epsilon: 0.0097, Risk: 0.0000, Return: 0.0097, Weights: [4.47144026e-01 1.24571400e-20 1.08362055e-01 4.44493919e-01]\n",
      "Epsilon: 0.0115, Risk: 0.0001, Return: 0.0115, Weights: [3.59710446e-01 9.95396782e-25 1.05041432e-24 6.40289554e-01]\n",
      "Epsilon: 0.0134, Risk: 0.0002, Return: 0.0134, Weights: [ 1.79855223e-01 -4.70578359e-24 -1.10439952e-24  8.20144777e-01]\n",
      "Epsilon: 0.0152, Risk: 0.0004, Return: 0.0152, Weights: [-2.52979769e-06 -1.09601153e-06 -3.18464550e-06  1.00000681e+00]\n"
     ]
    }
   ],
   "source": [
    "epsilon_range = np.linspace(returns.min(), returns.max(), 10)\n",
    "portfolio_solutions = augmented_epsilon_constraint(returns, covariance_matrix, epsilon_range)\n",
    "\n",
    "# Print the results\n",
    "for solution in portfolio_solutions:\n",
    "    print(f\"Epsilon: {solution['epsilon']:.4f}, Risk: {solution['risk']:.4f}, Return: {solution['return']:.4f}, Weights: {solution['weights']}\")\n"
   ]
  }
 ],
 "metadata": {
  "kernelspec": {
   "display_name": "Python 3 (ipykernel)",
   "language": "python",
   "name": "python3"
  },
  "language_info": {
   "codemirror_mode": {
    "name": "ipython",
    "version": 3
   },
   "file_extension": ".py",
   "mimetype": "text/x-python",
   "name": "python",
   "nbconvert_exporter": "python",
   "pygments_lexer": "ipython3",
   "version": "3.10.9"
  }
 },
 "nbformat": 4,
 "nbformat_minor": 5
}
